{
 "cells": [
  {
   "cell_type": "markdown",
   "id": "ee5af39a",
   "metadata": {},
   "source": [
    "# Cart_Pole_Balancer_Project_for_AI_Foundation_ICA"
   ]
  },
  {
   "cell_type": "markdown",
   "id": "7032088a",
   "metadata": {},
   "source": [
    "# 1. Environment set up and Algorithm implementation"
   ]
  },
  {
   "cell_type": "code",
   "execution_count": null,
   "id": "b0df7a17",
   "metadata": {
    "scrolled": false
   },
   "outputs": [],
   "source": [
    "! pip install \"gym[classic_control]\""
   ]
  },
  {
   "cell_type": "code",
   "execution_count": 2,
   "id": "e8e274bc",
   "metadata": {},
   "outputs": [],
   "source": [
    "import os\n",
    "import gym\n",
    "from stable_baselines3.common.vec_env import DummyVecEnv\n",
    "from stable_baselines3.common.evaluation import evaluate_policy\n",
    "from stable_baselines3 import PPO"
   ]
  },
  {
   "cell_type": "code",
   "execution_count": 3,
   "id": "de4978f3",
   "metadata": {},
   "outputs": [],
   "source": [
    "env = gym.make('CartPole-v1')"
   ]
  },
  {
   "cell_type": "code",
   "execution_count": 4,
   "id": "5d17e2e0",
   "metadata": {},
   "outputs": [
    {
     "data": {
      "text/plain": [
       "<TimeLimit<CartPoleEnv<CartPole-v1>>>"
      ]
     },
     "execution_count": 4,
     "metadata": {},
     "output_type": "execute_result"
    }
   ],
   "source": [
    "gym.make('CartPole-v1')"
   ]
  },
  {
   "cell_type": "markdown",
   "id": "ec1a4631",
   "metadata": {},
   "source": [
    "# 2. Select a random Action"
   ]
  },
  {
   "cell_type": "code",
   "execution_count": 5,
   "id": "ac66b027",
   "metadata": {},
   "outputs": [
    {
     "name": "stdout",
     "output_type": "stream",
     "text": [
      "Episode: 0 Score: 21.0\n",
      "Episode: 1 Score: 31.0\n",
      "Episode: 2 Score: 42.0\n",
      "Episode: 3 Score: 38.0\n",
      "Episode: 4 Score: 26.0\n",
      "Episode: 5 Score: 14.0\n",
      "Episode: 6 Score: 33.0\n",
      "Episode: 7 Score: 17.0\n",
      "Episode: 8 Score: 45.0\n",
      "Episode: 9 Score: 20.0\n"
     ]
    }
   ],
   "source": [
    "episodes = 10\n",
    "for episode in range(episodes):\n",
    "    state = env.reset()\n",
    "    done = False\n",
    "    reward_cnt = 0\n",
    "    \n",
    "    while not done:\n",
    "        env.render()\n",
    "        action = env.action_space.sample()\n",
    "        new_state, reward, done, info = env.step(action)\n",
    "        \n",
    "        reward_cnt += reward\n",
    "        state = new_state\n",
    "    print(f\"Episode: {episode} Score: {reward_cnt}\")\n",
    "env.close()"
   ]
  },
  {
   "cell_type": "markdown",
   "id": "2a4dae1d",
   "metadata": {},
   "source": [
    "# 3 Algrithm Implementation and Training"
   ]
  },
  {
   "cell_type": "code",
   "execution_count": 6,
   "id": "4977e523",
   "metadata": {},
   "outputs": [],
   "source": [
    "log_path = os.path.join(\"train\", \"logs\")"
   ]
  },
  {
   "cell_type": "code",
   "execution_count": 7,
   "id": "837ce867",
   "metadata": {},
   "outputs": [
    {
     "name": "stdout",
     "output_type": "stream",
     "text": [
      "Using cpu device\n"
     ]
    }
   ],
   "source": [
    "env = gym.make(\"CartPole-v1\")\n",
    "env = DummyVecEnv([lambda: env])\n",
    "model = PPO(\"MlpPolicy\", env, verbose=1, tensorboard_log=log_path)"
   ]
  },
  {
   "cell_type": "code",
   "execution_count": 8,
   "id": "f322ba2e",
   "metadata": {
    "scrolled": false
   },
   "outputs": [
    {
     "name": "stdout",
     "output_type": "stream",
     "text": [
      "Logging to train\\logs\\PPO_66\n",
      "-----------------------------\n",
      "| time/              |      |\n",
      "|    fps             | 245  |\n",
      "|    iterations      | 1    |\n",
      "|    time_elapsed    | 8    |\n",
      "|    total_timesteps | 2048 |\n",
      "-----------------------------\n",
      "-----------------------------------------\n",
      "| time/                   |             |\n",
      "|    fps                  | 371         |\n",
      "|    iterations           | 2           |\n",
      "|    time_elapsed         | 11          |\n",
      "|    total_timesteps      | 4096        |\n",
      "| train/                  |             |\n",
      "|    approx_kl            | 0.009123013 |\n",
      "|    clip_fraction        | 0.112       |\n",
      "|    clip_range           | 0.2         |\n",
      "|    entropy_loss         | -0.686      |\n",
      "|    explained_variance   | 0.00194     |\n",
      "|    learning_rate        | 0.0003      |\n",
      "|    loss                 | 6.67        |\n",
      "|    n_updates            | 10          |\n",
      "|    policy_gradient_loss | -0.0172     |\n",
      "|    value_loss           | 49.1        |\n",
      "-----------------------------------------\n",
      "------------------------------------------\n",
      "| time/                   |              |\n",
      "|    fps                  | 449          |\n",
      "|    iterations           | 3            |\n",
      "|    time_elapsed         | 13           |\n",
      "|    total_timesteps      | 6144         |\n",
      "| train/                  |              |\n",
      "|    approx_kl            | 0.0100633465 |\n",
      "|    clip_fraction        | 0.0652       |\n",
      "|    clip_range           | 0.2          |\n",
      "|    entropy_loss         | -0.665       |\n",
      "|    explained_variance   | 0.079        |\n",
      "|    learning_rate        | 0.0003       |\n",
      "|    loss                 | 11.8         |\n",
      "|    n_updates            | 20           |\n",
      "|    policy_gradient_loss | -0.0168      |\n",
      "|    value_loss           | 35.2         |\n",
      "------------------------------------------\n",
      "-----------------------------------------\n",
      "| time/                   |             |\n",
      "|    fps                  | 505         |\n",
      "|    iterations           | 4           |\n",
      "|    time_elapsed         | 16          |\n",
      "|    total_timesteps      | 8192        |\n",
      "| train/                  |             |\n",
      "|    approx_kl            | 0.010403969 |\n",
      "|    clip_fraction        | 0.118       |\n",
      "|    clip_range           | 0.2         |\n",
      "|    entropy_loss         | -0.635      |\n",
      "|    explained_variance   | 0.255       |\n",
      "|    learning_rate        | 0.0003      |\n",
      "|    loss                 | 20.4        |\n",
      "|    n_updates            | 30          |\n",
      "|    policy_gradient_loss | -0.0197     |\n",
      "|    value_loss           | 46.6        |\n",
      "-----------------------------------------\n",
      "-----------------------------------------\n",
      "| time/                   |             |\n",
      "|    fps                  | 545         |\n",
      "|    iterations           | 5           |\n",
      "|    time_elapsed         | 18          |\n",
      "|    total_timesteps      | 10240       |\n",
      "| train/                  |             |\n",
      "|    approx_kl            | 0.008356151 |\n",
      "|    clip_fraction        | 0.073       |\n",
      "|    clip_range           | 0.2         |\n",
      "|    entropy_loss         | -0.61       |\n",
      "|    explained_variance   | 0.341       |\n",
      "|    learning_rate        | 0.0003      |\n",
      "|    loss                 | 27.1        |\n",
      "|    n_updates            | 40          |\n",
      "|    policy_gradient_loss | -0.0176     |\n",
      "|    value_loss           | 56.5        |\n",
      "-----------------------------------------\n"
     ]
    },
    {
     "data": {
      "text/plain": [
       "<stable_baselines3.ppo.ppo.PPO at 0x18d495ab940>"
      ]
     },
     "execution_count": 8,
     "metadata": {},
     "output_type": "execute_result"
    }
   ],
   "source": [
    "model.learn(total_timesteps=10_000)"
   ]
  },
  {
   "cell_type": "markdown",
   "id": "b90325b5",
   "metadata": {},
   "source": [
    "# 4. Test running the agent "
   ]
  },
  {
   "cell_type": "code",
   "execution_count": 9,
   "id": "43d86ce6",
   "metadata": {},
   "outputs": [
    {
     "name": "stdout",
     "output_type": "stream",
     "text": [
      "Episode: 0 Score: [156.]\n",
      "Episode: 1 Score: [174.]\n",
      "Episode: 2 Score: [154.]\n",
      "Episode: 3 Score: [342.]\n",
      "Episode: 4 Score: [171.]\n",
      "Episode: 5 Score: [45.]\n",
      "Episode: 6 Score: [148.]\n",
      "Episode: 7 Score: [145.]\n",
      "Episode: 8 Score: [133.]\n",
      "Episode: 9 Score: [71.]\n"
     ]
    }
   ],
   "source": [
    "episodes = 10\n",
    "for episode in range(episodes):\n",
    "    state = env.reset()\n",
    "    done = False\n",
    "    reward_cnt = 1\n",
    "    \n",
    "    while not done:\n",
    "        env.render()\n",
    "        action, _ = model.predict(state)\n",
    "        new_state, reward, done, info = env.step(action)\n",
    "        \n",
    "        reward_cnt += reward\n",
    "        state = new_state\n",
    "    print(f\"Episode: {episode} Score: {reward_cnt}\")\n",
    "env.close()"
   ]
  },
  {
   "cell_type": "markdown",
   "id": "337da5ea",
   "metadata": {},
   "source": [
    "# 5. Hyper Parameter tuning"
   ]
  },
  {
   "cell_type": "code",
   "execution_count": 10,
   "id": "adef4151",
   "metadata": {},
   "outputs": [],
   "source": [
    "net_arch = [dict(pi=[128, 128, 128, 128], vf=[128, 128, 128, 128])]"
   ]
  },
  {
   "cell_type": "code",
   "execution_count": 11,
   "id": "1ae62e69",
   "metadata": {},
   "outputs": [
    {
     "name": "stdout",
     "output_type": "stream",
     "text": [
      "Using cpu device\n"
     ]
    }
   ],
   "source": [
    "model = PPO(\"MlpPolicy\", env, verbose=1, tensorboard_log=log_path, policy_kwargs={\"net_arch\": net_arch})"
   ]
  },
  {
   "cell_type": "code",
   "execution_count": 12,
   "id": "719d0661",
   "metadata": {},
   "outputs": [
    {
     "name": "stdout",
     "output_type": "stream",
     "text": [
      "Logging to train\\logs\\PPO_67\n",
      "-----------------------------\n",
      "| time/              |      |\n",
      "|    fps             | 1093 |\n",
      "|    iterations      | 1    |\n",
      "|    time_elapsed    | 1    |\n",
      "|    total_timesteps | 2048 |\n",
      "-----------------------------\n",
      "----------------------------------------\n",
      "| time/                   |            |\n",
      "|    fps                  | 699        |\n",
      "|    iterations           | 2          |\n",
      "|    time_elapsed         | 5          |\n",
      "|    total_timesteps      | 4096       |\n",
      "| train/                  |            |\n",
      "|    approx_kl            | 0.01583975 |\n",
      "|    clip_fraction        | 0.248      |\n",
      "|    clip_range           | 0.2        |\n",
      "|    entropy_loss         | -0.681     |\n",
      "|    explained_variance   | 0.0037     |\n",
      "|    learning_rate        | 0.0003     |\n",
      "|    loss                 | 3.29       |\n",
      "|    n_updates            | 10         |\n",
      "|    policy_gradient_loss | -0.0279    |\n",
      "|    value_loss           | 18.2       |\n",
      "----------------------------------------\n",
      "-----------------------------------------\n",
      "| time/                   |             |\n",
      "|    fps                  | 621         |\n",
      "|    iterations           | 3           |\n",
      "|    time_elapsed         | 9           |\n",
      "|    total_timesteps      | 6144        |\n",
      "| train/                  |             |\n",
      "|    approx_kl            | 0.016645988 |\n",
      "|    clip_fraction        | 0.215       |\n",
      "|    clip_range           | 0.2         |\n",
      "|    entropy_loss         | -0.647      |\n",
      "|    explained_variance   | 0.421       |\n",
      "|    learning_rate        | 0.0003      |\n",
      "|    loss                 | 10.3        |\n",
      "|    n_updates            | 20          |\n",
      "|    policy_gradient_loss | -0.0363     |\n",
      "|    value_loss           | 27.1        |\n",
      "-----------------------------------------\n",
      "-----------------------------------------\n",
      "| time/                   |             |\n",
      "|    fps                  | 596         |\n",
      "|    iterations           | 4           |\n",
      "|    time_elapsed         | 13          |\n",
      "|    total_timesteps      | 8192        |\n",
      "| train/                  |             |\n",
      "|    approx_kl            | 0.010634328 |\n",
      "|    clip_fraction        | 0.166       |\n",
      "|    clip_range           | 0.2         |\n",
      "|    entropy_loss         | -0.602      |\n",
      "|    explained_variance   | 0.36        |\n",
      "|    learning_rate        | 0.0003      |\n",
      "|    loss                 | 17.9        |\n",
      "|    n_updates            | 30          |\n",
      "|    policy_gradient_loss | -0.0286     |\n",
      "|    value_loss           | 45.7        |\n",
      "-----------------------------------------\n",
      "-----------------------------------------\n",
      "| time/                   |             |\n",
      "|    fps                  | 579         |\n",
      "|    iterations           | 5           |\n",
      "|    time_elapsed         | 17          |\n",
      "|    total_timesteps      | 10240       |\n",
      "| train/                  |             |\n",
      "|    approx_kl            | 0.015483918 |\n",
      "|    clip_fraction        | 0.151       |\n",
      "|    clip_range           | 0.2         |\n",
      "|    entropy_loss         | -0.582      |\n",
      "|    explained_variance   | 0.598       |\n",
      "|    learning_rate        | 0.0003      |\n",
      "|    loss                 | 10.4        |\n",
      "|    n_updates            | 40          |\n",
      "|    policy_gradient_loss | -0.0237     |\n",
      "|    value_loss           | 34.7        |\n",
      "-----------------------------------------\n"
     ]
    },
    {
     "data": {
      "text/plain": [
       "<stable_baselines3.ppo.ppo.PPO at 0x18d62238cd0>"
      ]
     },
     "execution_count": 12,
     "metadata": {},
     "output_type": "execute_result"
    }
   ],
   "source": [
    "model.learn(total_timesteps=10_000)"
   ]
  },
  {
   "cell_type": "markdown",
   "id": "cc819690",
   "metadata": {},
   "source": [
    "# 6. Adding a Callbacks"
   ]
  },
  {
   "cell_type": "code",
   "execution_count": 13,
   "id": "b9c39105",
   "metadata": {},
   "outputs": [],
   "source": [
    "from stable_baselines3.common.callbacks import EvalCallback, StopTrainingOnRewardThreshold"
   ]
  },
  {
   "cell_type": "code",
   "execution_count": 14,
   "id": "81f611c4",
   "metadata": {},
   "outputs": [],
   "source": [
    "save_path = os.path.join(\"train\", \"saved_models\")"
   ]
  },
  {
   "cell_type": "code",
   "execution_count": 15,
   "id": "defb0562",
   "metadata": {},
   "outputs": [],
   "source": [
    "stop_callback = StopTrainingOnRewardThreshold(reward_threshold=501, verbose=1)"
   ]
  },
  {
   "cell_type": "code",
   "execution_count": 16,
   "id": "935ea9b1",
   "metadata": {},
   "outputs": [],
   "source": [
    "eval_callback = EvalCallback(env,\n",
    "                            callback_on_new_best=stop_callback,\n",
    "                             best_model_save_path=save_path,\n",
    "                             verbose=1)"
   ]
  },
  {
   "cell_type": "markdown",
   "id": "97507b29",
   "metadata": {},
   "source": [
    "# 7. Retraining"
   ]
  },
  {
   "cell_type": "code",
   "execution_count": 23,
   "id": "1190f8e5",
   "metadata": {},
   "outputs": [],
   "source": [
    "model = PPO(\"MlpPolicy\", env=env, tensorboard_log=log_path, policy_kwargs={\"net_arch\": net_arch})"
   ]
  },
  {
   "cell_type": "code",
   "execution_count": 24,
   "id": "1f14d2b1",
   "metadata": {},
   "outputs": [
    {
     "name": "stdout",
     "output_type": "stream",
     "text": [
      "Eval num_timesteps=9760, episode_reward=408.80 +/- 111.95\n",
      "Episode length: 408.80 +/- 111.95\n",
      "Eval num_timesteps=19760, episode_reward=458.20 +/- 52.81\n",
      "Episode length: 458.20 +/- 52.81\n",
      "Eval num_timesteps=29760, episode_reward=500.00 +/- 0.00\n",
      "Episode length: 500.00 +/- 0.00\n",
      "New best mean reward!\n",
      "Stopping training because the mean reward 500.00  is above the threshold 475\n"
     ]
    },
    {
     "data": {
      "text/plain": [
       "<stable_baselines3.ppo.ppo.PPO at 0x18d6266fa90>"
      ]
     },
     "execution_count": 24,
     "metadata": {},
     "output_type": "execute_result"
    }
   ],
   "source": [
    "model.learn(total_timesteps=50_000, callback=eval_callback)"
   ]
  },
  {
   "cell_type": "markdown",
   "id": "007a4ac4",
   "metadata": {},
   "source": [
    "# 8. Save Model"
   ]
  },
  {
   "cell_type": "code",
   "execution_count": 25,
   "id": "10740b5b",
   "metadata": {},
   "outputs": [],
   "source": [
    "MODEL_PATH = os.path.join(\"train\", \"saved_models\", \"PPO_cart_pole_model\")"
   ]
  },
  {
   "cell_type": "code",
   "execution_count": 26,
   "id": "a156c40b",
   "metadata": {},
   "outputs": [],
   "source": [
    "model.save(MODEL_PATH)"
   ]
  },
  {
   "cell_type": "markdown",
   "id": "587bf1c3",
   "metadata": {},
   "source": [
    "# 9. Reload Model"
   ]
  },
  {
   "cell_type": "code",
   "execution_count": 27,
   "id": "0e7c3943",
   "metadata": {},
   "outputs": [],
   "source": [
    "model = PPO.load(MODEL_PATH, env=env)"
   ]
  },
  {
   "cell_type": "markdown",
   "id": "2678c01d",
   "metadata": {},
   "source": [
    "# 10. Evaluate Model"
   ]
  },
  {
   "cell_type": "code",
   "execution_count": 24,
   "id": "2644fe38",
   "metadata": {},
   "outputs": [
    {
     "data": {
      "text/plain": [
       "(467.7, 58.34046623056761)"
      ]
     },
     "execution_count": 24,
     "metadata": {},
     "output_type": "execute_result"
    }
   ],
   "source": [
    "evaluate_policy(model, env=env, n_eval_episodes=10, render=True)\n"
   ]
  },
  {
   "cell_type": "markdown",
   "id": "1c38b166",
   "metadata": {},
   "source": [
    "# 11. Deployment"
   ]
  },
  {
   "cell_type": "code",
   "execution_count": 28,
   "id": "04ff3356",
   "metadata": {},
   "outputs": [
    {
     "name": "stdout",
     "output_type": "stream",
     "text": [
      "Episode: 0 Score: [501.]\n",
      "Episode: 1 Score: [501.]\n",
      "Episode: 2 Score: [501.]\n",
      "Episode: 3 Score: [375.]\n",
      "Episode: 4 Score: [501.]\n",
      "Episode: 5 Score: [501.]\n",
      "Episode: 6 Score: [501.]\n",
      "Episode: 7 Score: [501.]\n",
      "Episode: 8 Score: [501.]\n",
      "Episode: 9 Score: [501.]\n"
     ]
    }
   ],
   "source": [
    "episodes = 10\n",
    "for episode in range(episodes):\n",
    "    state = env.reset()\n",
    "    done = False\n",
    "    reward_cnt = 1\n",
    "    \n",
    "    while not done:\n",
    "        env.render()\n",
    "        action, _ = model.predict(state)\n",
    "        new_state, reward, done, info = env.step(action)\n",
    "        \n",
    "        reward_cnt += reward\n",
    "        state = new_state\n",
    "    print(f\"Episode: {episode} Score: {reward_cnt}\")\n",
    "env.close()"
   ]
  },
  {
   "cell_type": "markdown",
   "id": "dc69a8ae",
   "metadata": {},
   "source": [
    "# 12. View Performance"
   ]
  },
  {
   "cell_type": "code",
   "execution_count": 1,
   "id": "f1f31039",
   "metadata": {},
   "outputs": [],
   "source": [
    "import tensorboard"
   ]
  },
  {
   "cell_type": "code",
   "execution_count": 6,
   "id": "47c7537f",
   "metadata": {},
   "outputs": [],
   "source": [
    "training_log_path = os.path.join(log_path, \"PPO_47\")"
   ]
  },
  {
   "cell_type": "code",
   "execution_count": 9,
   "id": "1e2a335b",
   "metadata": {},
   "outputs": [
    {
     "data": {
      "text/plain": [
       "'train\\\\logs\\\\PPO_47'"
      ]
     },
     "execution_count": 9,
     "metadata": {},
     "output_type": "execute_result"
    }
   ],
   "source": [
    "training_log_path"
   ]
  },
  {
   "cell_type": "code",
   "execution_count": 11,
   "id": "8869e26e",
   "metadata": {},
   "outputs": [],
   "source": [
    "!tensorboard --logdir=\"./train/logs/\""
   ]
  }
 ],
 "metadata": {
  "kernelspec": {
   "display_name": "Python 3 (ipykernel)",
   "language": "python",
   "name": "python3"
  },
  "language_info": {
   "codemirror_mode": {
    "name": "ipython",
    "version": 3
   },
   "file_extension": ".py",
   "mimetype": "text/x-python",
   "name": "python",
   "nbconvert_exporter": "python",
   "pygments_lexer": "ipython3",
   "version": "3.11.2"
  }
 },
 "nbformat": 4,
 "nbformat_minor": 5
}
